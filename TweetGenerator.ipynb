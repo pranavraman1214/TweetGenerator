{
 "cells": [
  {
   "cell_type": "code",
   "execution_count": 29,
   "metadata": {},
   "outputs": [
    {
     "name": "stdout",
     "output_type": "stream",
     "text": [
      "Requirement already satisfied: tweepy in /Applications/anaconda3/lib/python3.7/site-packages (3.8.0)\n",
      "Requirement already satisfied: PySocks>=1.5.7 in /Applications/anaconda3/lib/python3.7/site-packages (from tweepy) (1.7.1)\n",
      "Requirement already satisfied: requests>=2.11.1 in /Applications/anaconda3/lib/python3.7/site-packages (from tweepy) (2.22.0)\n",
      "Requirement already satisfied: requests-oauthlib>=0.7.0 in /Applications/anaconda3/lib/python3.7/site-packages (from tweepy) (1.3.0)\n",
      "Requirement already satisfied: six>=1.10.0 in /Applications/anaconda3/lib/python3.7/site-packages (from tweepy) (1.12.0)\n",
      "Requirement already satisfied: certifi>=2017.4.17 in /Applications/anaconda3/lib/python3.7/site-packages (from requests>=2.11.1->tweepy) (2019.9.11)\n",
      "Requirement already satisfied: urllib3!=1.25.0,!=1.25.1,<1.26,>=1.21.1 in /Applications/anaconda3/lib/python3.7/site-packages (from requests>=2.11.1->tweepy) (1.24.2)\n",
      "Requirement already satisfied: idna<2.9,>=2.5 in /Applications/anaconda3/lib/python3.7/site-packages (from requests>=2.11.1->tweepy) (2.8)\n",
      "Requirement already satisfied: chardet<3.1.0,>=3.0.2 in /Applications/anaconda3/lib/python3.7/site-packages (from requests>=2.11.1->tweepy) (3.0.4)\n",
      "Requirement already satisfied: oauthlib>=3.0.0 in /Applications/anaconda3/lib/python3.7/site-packages (from requests-oauthlib>=0.7.0->tweepy) (3.1.0)\n",
      "Requirement already satisfied: textgenrnn in /Applications/anaconda3/lib/python3.7/site-packages (2.0.0)\n",
      "Requirement already satisfied: h5py in /Applications/anaconda3/lib/python3.7/site-packages (from textgenrnn) (2.9.0)\n",
      "Requirement already satisfied: tensorflow>=2.1.0 in /Applications/anaconda3/lib/python3.7/site-packages (from textgenrnn) (2.2.0)\n",
      "Requirement already satisfied: scikit-learn in /Applications/anaconda3/lib/python3.7/site-packages (from textgenrnn) (0.21.3)\n",
      "Requirement already satisfied: keras in /Applications/anaconda3/lib/python3.7/site-packages (from textgenrnn) (2.3.1)\n",
      "Requirement already satisfied: tqdm in /Applications/anaconda3/lib/python3.7/site-packages (from textgenrnn) (4.36.1)\n",
      "Requirement already satisfied: six in /Applications/anaconda3/lib/python3.7/site-packages (from h5py->textgenrnn) (1.12.0)\n",
      "Requirement already satisfied: numpy>=1.7 in /Applications/anaconda3/lib/python3.7/site-packages (from h5py->textgenrnn) (1.17.2)\n",
      "Requirement already satisfied: gast==0.3.3 in /Applications/anaconda3/lib/python3.7/site-packages (from tensorflow>=2.1.0->textgenrnn) (0.3.3)\n",
      "Requirement already satisfied: tensorflow-estimator<2.3.0,>=2.2.0 in /Applications/anaconda3/lib/python3.7/site-packages (from tensorflow>=2.1.0->textgenrnn) (2.2.0)\n",
      "Requirement already satisfied: protobuf>=3.8.0 in /Applications/anaconda3/lib/python3.7/site-packages (from tensorflow>=2.1.0->textgenrnn) (3.11.3)\n",
      "Requirement already satisfied: opt-einsum>=2.3.2 in /Applications/anaconda3/lib/python3.7/site-packages (from tensorflow>=2.1.0->textgenrnn) (3.2.1)\n",
      "Requirement already satisfied: wheel>=0.26; python_version >= \"3\" in /Applications/anaconda3/lib/python3.7/site-packages (from tensorflow>=2.1.0->textgenrnn) (0.33.6)\n",
      "Requirement already satisfied: wrapt>=1.11.1 in /Applications/anaconda3/lib/python3.7/site-packages (from tensorflow>=2.1.0->textgenrnn) (1.11.2)\n",
      "Requirement already satisfied: grpcio>=1.8.6 in /Applications/anaconda3/lib/python3.7/site-packages (from tensorflow>=2.1.0->textgenrnn) (1.28.1)\n",
      "Requirement already satisfied: scipy==1.4.1; python_version >= \"3\" in /Applications/anaconda3/lib/python3.7/site-packages (from tensorflow>=2.1.0->textgenrnn) (1.4.1)\n",
      "Requirement already satisfied: google-pasta>=0.1.8 in /Applications/anaconda3/lib/python3.7/site-packages (from tensorflow>=2.1.0->textgenrnn) (0.2.0)\n",
      "Requirement already satisfied: astunparse==1.6.3 in /Applications/anaconda3/lib/python3.7/site-packages (from tensorflow>=2.1.0->textgenrnn) (1.6.3)\n",
      "Requirement already satisfied: tensorboard<2.3.0,>=2.2.0 in /Applications/anaconda3/lib/python3.7/site-packages (from tensorflow>=2.1.0->textgenrnn) (2.2.1)\n",
      "Requirement already satisfied: termcolor>=1.1.0 in /Applications/anaconda3/lib/python3.7/site-packages (from tensorflow>=2.1.0->textgenrnn) (1.1.0)\n",
      "Requirement already satisfied: absl-py>=0.7.0 in /Applications/anaconda3/lib/python3.7/site-packages (from tensorflow>=2.1.0->textgenrnn) (0.9.0)\n",
      "Requirement already satisfied: keras-preprocessing>=1.1.0 in /Applications/anaconda3/lib/python3.7/site-packages (from tensorflow>=2.1.0->textgenrnn) (1.1.0)\n",
      "Requirement already satisfied: joblib>=0.11 in /Applications/anaconda3/lib/python3.7/site-packages (from scikit-learn->textgenrnn) (0.13.2)\n",
      "Requirement already satisfied: pyyaml in /Applications/anaconda3/lib/python3.7/site-packages (from keras->textgenrnn) (5.1.2)\n",
      "Requirement already satisfied: keras-applications>=1.0.6 in /Applications/anaconda3/lib/python3.7/site-packages (from keras->textgenrnn) (1.0.8)\n",
      "Requirement already satisfied: setuptools in /Applications/anaconda3/lib/python3.7/site-packages (from protobuf>=3.8.0->tensorflow>=2.1.0->textgenrnn) (41.4.0)\n",
      "Requirement already satisfied: markdown>=2.6.8 in /Applications/anaconda3/lib/python3.7/site-packages (from tensorboard<2.3.0,>=2.2.0->tensorflow>=2.1.0->textgenrnn) (3.2.2)\n",
      "Requirement already satisfied: requests<3,>=2.21.0 in /Applications/anaconda3/lib/python3.7/site-packages (from tensorboard<2.3.0,>=2.2.0->tensorflow>=2.1.0->textgenrnn) (2.22.0)\n",
      "Requirement already satisfied: google-auth-oauthlib<0.5,>=0.4.1 in /Applications/anaconda3/lib/python3.7/site-packages (from tensorboard<2.3.0,>=2.2.0->tensorflow>=2.1.0->textgenrnn) (0.4.1)\n",
      "Requirement already satisfied: werkzeug>=0.11.15 in /Applications/anaconda3/lib/python3.7/site-packages (from tensorboard<2.3.0,>=2.2.0->tensorflow>=2.1.0->textgenrnn) (0.16.0)\n",
      "Requirement already satisfied: google-auth<2,>=1.6.3 in /Applications/anaconda3/lib/python3.7/site-packages (from tensorboard<2.3.0,>=2.2.0->tensorflow>=2.1.0->textgenrnn) (1.14.2)\n",
      "Requirement already satisfied: tensorboard-plugin-wit>=1.6.0 in /Applications/anaconda3/lib/python3.7/site-packages (from tensorboard<2.3.0,>=2.2.0->tensorflow>=2.1.0->textgenrnn) (1.6.0.post3)\n",
      "Requirement already satisfied: importlib-metadata; python_version < \"3.8\" in /Applications/anaconda3/lib/python3.7/site-packages (from markdown>=2.6.8->tensorboard<2.3.0,>=2.2.0->tensorflow>=2.1.0->textgenrnn) (0.23)\n",
      "Requirement already satisfied: certifi>=2017.4.17 in /Applications/anaconda3/lib/python3.7/site-packages (from requests<3,>=2.21.0->tensorboard<2.3.0,>=2.2.0->tensorflow>=2.1.0->textgenrnn) (2019.9.11)\n",
      "Requirement already satisfied: chardet<3.1.0,>=3.0.2 in /Applications/anaconda3/lib/python3.7/site-packages (from requests<3,>=2.21.0->tensorboard<2.3.0,>=2.2.0->tensorflow>=2.1.0->textgenrnn) (3.0.4)\n",
      "Requirement already satisfied: urllib3!=1.25.0,!=1.25.1,<1.26,>=1.21.1 in /Applications/anaconda3/lib/python3.7/site-packages (from requests<3,>=2.21.0->tensorboard<2.3.0,>=2.2.0->tensorflow>=2.1.0->textgenrnn) (1.24.2)\n",
      "Requirement already satisfied: idna<2.9,>=2.5 in /Applications/anaconda3/lib/python3.7/site-packages (from requests<3,>=2.21.0->tensorboard<2.3.0,>=2.2.0->tensorflow>=2.1.0->textgenrnn) (2.8)\n",
      "Requirement already satisfied: requests-oauthlib>=0.7.0 in /Applications/anaconda3/lib/python3.7/site-packages (from google-auth-oauthlib<0.5,>=0.4.1->tensorboard<2.3.0,>=2.2.0->tensorflow>=2.1.0->textgenrnn) (1.3.0)\n",
      "Requirement already satisfied: pyasn1-modules>=0.2.1 in /Applications/anaconda3/lib/python3.7/site-packages (from google-auth<2,>=1.6.3->tensorboard<2.3.0,>=2.2.0->tensorflow>=2.1.0->textgenrnn) (0.2.8)\n",
      "Requirement already satisfied: cachetools<5.0,>=2.0.0 in /Applications/anaconda3/lib/python3.7/site-packages (from google-auth<2,>=1.6.3->tensorboard<2.3.0,>=2.2.0->tensorflow>=2.1.0->textgenrnn) (4.1.0)\n",
      "Requirement already satisfied: rsa<4.1,>=3.1.4 in /Applications/anaconda3/lib/python3.7/site-packages (from google-auth<2,>=1.6.3->tensorboard<2.3.0,>=2.2.0->tensorflow>=2.1.0->textgenrnn) (4.0)\n",
      "Requirement already satisfied: zipp>=0.5 in /Applications/anaconda3/lib/python3.7/site-packages (from importlib-metadata; python_version < \"3.8\"->markdown>=2.6.8->tensorboard<2.3.0,>=2.2.0->tensorflow>=2.1.0->textgenrnn) (0.6.0)\n",
      "Requirement already satisfied: oauthlib>=3.0.0 in /Applications/anaconda3/lib/python3.7/site-packages (from requests-oauthlib>=0.7.0->google-auth-oauthlib<0.5,>=0.4.1->tensorboard<2.3.0,>=2.2.0->tensorflow>=2.1.0->textgenrnn) (3.1.0)\n",
      "Requirement already satisfied: pyasn1<0.5.0,>=0.4.6 in /Applications/anaconda3/lib/python3.7/site-packages (from pyasn1-modules>=0.2.1->google-auth<2,>=1.6.3->tensorboard<2.3.0,>=2.2.0->tensorflow>=2.1.0->textgenrnn) (0.4.8)\n",
      "Requirement already satisfied: more-itertools in /Applications/anaconda3/lib/python3.7/site-packages (from zipp>=0.5->importlib-metadata; python_version < \"3.8\"->markdown>=2.6.8->tensorboard<2.3.0,>=2.2.0->tensorflow>=2.1.0->textgenrnn) (7.2.0)\n"
     ]
    }
   ],
   "source": [
    "!pip install tweepy\n",
    "!pip install textgenrnn"
   ]
  },
  {
   "cell_type": "code",
   "execution_count": 56,
   "metadata": {},
   "outputs": [],
   "source": [
    "import tweepy\n",
    "auth = tweepy.OAuthHandler(conskey, conssec)\n",
    "auth.set_access_token(acctoken, accsec)\n",
    "api = tweepy.API(auth)"
   ]
  },
  {
   "cell_type": "code",
   "execution_count": 57,
   "metadata": {},
   "outputs": [],
   "source": [
    "user = 'pran1214'\n",
    "item = api.get_user(user)"
   ]
  },
  {
   "cell_type": "code",
   "execution_count": 58,
   "metadata": {},
   "outputs": [
    {
     "name": "stdout",
     "output_type": "stream",
     "text": [
      "2015-02-12 01:29:17\n"
     ]
    }
   ],
   "source": [
    "from datetime import datetime, date, time, timedelta\n",
    "account_created_date = item.created_at\n",
    "print(account_created_date)"
   ]
  },
  {
   "cell_type": "code",
   "execution_count": 59,
   "metadata": {},
   "outputs": [
    {
     "data": {
      "text/plain": [
       "675"
      ]
     },
     "execution_count": 59,
     "metadata": {},
     "output_type": "execute_result"
    }
   ],
   "source": [
    "from tweepy import OAuthHandler\n",
    "from tweepy import API\n",
    "from tweepy import Cursor\n",
    "statuses = Cursor(api.user_timeline, id=user,tweet_mode='extended',include_rts = False,count=2000).items() \n",
    "userwrittentexts = []\n",
    "for status in statuses:\n",
    "  text = status.full_text\n",
    "  userwrittentexts.append(text) \n",
    "len(userwrittentexts)"
   ]
  },
  {
   "cell_type": "code",
   "execution_count": 60,
   "metadata": {},
   "outputs": [
    {
     "name": "stdout",
     "output_type": "stream",
     "text": [
      "674\n"
     ]
    }
   ],
   "source": [
    "import re \n",
    "cleanedtweets = []\n",
    "for x in userwrittentexts: \n",
    "    text = re.sub(r'\\w+:\\/{2}[\\d\\w-]+(\\.[\\d\\w-]+)*(?:(?:\\/[^\\s/]*))*', '', x)\n",
    "    if len(text.strip()) == 0: \n",
    "      continue \n",
    "    else: \n",
    "      cleanedtweets.append(text.strip())\n",
    "print(len(cleanedtweets))"
   ]
  },
  {
   "cell_type": "code",
   "execution_count": 74,
   "metadata": {},
   "outputs": [
    {
     "name": "stdout",
     "output_type": "stream",
     "text": [
      "Training on 38,714 character sequences.\n",
      "Epoch 1/10\n",
      "302/302 [==============================] - 39s 128ms/step - loss: 2.2856 - lr: 0.0040\n",
      "Epoch 2/10\n",
      "302/302 [==============================] - 37s 122ms/step - loss: 1.7487 - lr: 0.0036\n",
      "Epoch 3/10\n",
      "302/302 [==============================] - 39s 128ms/step - loss: 1.5269 - lr: 0.0032\n",
      "Epoch 4/10\n",
      "302/302 [==============================] - 39s 130ms/step - loss: 1.3839 - lr: 0.0028\n",
      "Epoch 5/10\n",
      "302/302 [==============================] - 39s 130ms/step - loss: 1.2679 - lr: 0.0024\n",
      "Epoch 6/10\n",
      "302/302 [==============================] - 39s 129ms/step - loss: 1.1690 - lr: 0.0020\n",
      "Epoch 7/10\n",
      "302/302 [==============================] - 39s 128ms/step - loss: 1.0847 - lr: 0.0016\n",
      "Epoch 8/10\n",
      "302/302 [==============================] - 39s 129ms/step - loss: 0.9997 - lr: 0.0012\n",
      "Epoch 9/10\n",
      "302/302 [==============================] - 39s 128ms/step - loss: 0.9393 - lr: 8.0000e-04\n",
      "Epoch 10/10\n",
      "302/302 [==============================] - ETA: 0s - loss: 0.8853####################\n",
      "Temperature: 0.2\n",
      "####################\n",
      "@asonia220 @hehcamille @JalajHaryani  think is the best team! Who do not getting the best real time\n",
      "\n",
      "@DoitdayLee @DoitdayLee @DoitdayLee  what it was a proud of the best trie and so u took the corry for someones so that the compiness proud of the best trinder camerus is a could like u better\n",
      "\n",
      "@DoitdayLee @DoitdayLee  is the best try is the best the #Too the corrate of the best trie and sorry already a sense. I got a heart on the best trie of the worst soul so u come it\n",
      "\n",
      "####################\n",
      "Temperature: 0.5\n",
      "####################\n",
      "@exotabz @DoitdayLee  u brown me ass an album and the corn something? I want to state up\n",
      "\n",
      "@_basedcaillou_  thanks changed this was a heart for one of the compline at respine\n",
      "\n",
      "@KVNGM0 @Chanwoo321 @hehcamille @JalajHaryani  didnt know you weh 2..........\n",
      "\n",
      "####################\n",
      "Temperature: 1.0\n",
      "####################\n",
      "Ylener these like up is great to the cols at DFFM0 for Let's u to retwin or saverssuanh \n",
      "\n",
      "@asonia220 Mash the only stould her teman have changed \"if\"? Abore\n",
      "\n",
      "@_priiyanarkaa @folmar_jackie I'm college\n",
      "\n",
      "302/302 [==============================] - 57s 188ms/step - loss: 0.8853 - lr: 4.0000e-04\n"
     ]
    },
    {
     "name": "stderr",
     "output_type": "stream",
     "text": [
      "100%|██████████| 100/100 [01:51<00:00,  1.11s/it]\n"
     ]
    }
   ],
   "source": [
    "from textgenrnn import textgenrnn\n",
    "textgen = textgenrnn()\n",
    "trainedmodel = textgen.train_on_texts(cleanedtweets, num_epochs=10,  gen_epochs=10)\n",
    "textgen.generate_to_file(\"prantweets.txt\", n=100,temperature = .9)"
   ]
  },
  {
   "cell_type": "code",
   "execution_count": 21,
   "metadata": {},
   "outputs": [
    {
     "name": "stdout",
     "output_type": "stream",
     "text": [
      "Requirement already satisfied: nltk in /Applications/anaconda3/lib/python3.7/site-packages (3.4.5)\r\n",
      "Requirement already satisfied: six in /Applications/anaconda3/lib/python3.7/site-packages (from nltk) (1.12.0)\r\n"
     ]
    },
    {
     "name": "stderr",
     "output_type": "stream",
     "text": [
      "[nltk_data] Downloading package punkt to\n",
      "[nltk_data]     /Users/pranavraman/nltk_data...\n",
      "[nltk_data]   Package punkt is already up-to-date!\n",
      "[nltk_data] Downloading package stopwords to\n",
      "[nltk_data]     /Users/pranavraman/nltk_data...\n",
      "[nltk_data]   Package stopwords is already up-to-date!\n"
     ]
    },
    {
     "data": {
      "text/plain": [
       "True"
      ]
     },
     "execution_count": 21,
     "metadata": {},
     "output_type": "execute_result"
    }
   ],
   "source": [
    "!pip install nltk\n",
    "import nltk\n",
    "nltk.download('punkt')\n",
    "nltk.download('stopwords')"
   ]
  },
  {
   "cell_type": "code",
   "execution_count": 61,
   "metadata": {},
   "outputs": [],
   "source": [
    "from nltk.tokenize import word_tokenize\n",
    "tokenized = []\n",
    "for tweet in cleanedtweets: \n",
    "    tokenized_word = word_tokenize(tweet)\n",
    "    tokenized.extend(tokenized_word)"
   ]
  },
  {
   "cell_type": "code",
   "execution_count": 70,
   "metadata": {},
   "outputs": [],
   "source": [
    "from nltk.corpus import stopwords\n",
    "import re\n",
    "tokenized = [str(x).lower() for x in tokenized]\n",
    "tokenized = [x for x in tokenized if x != \"amp\"]\n",
    "tokenized = [re.sub(r'[^\\w\\s]','',x) for x in tokenized]\n",
    "tokenized = [x for x in tokenized if len(x.strip()) > 0]\n",
    "tokenizednew = []\n",
    "stop_words=set(stopwords.words(\"english\"))\n",
    "textabbrev = ['u', 'ur', 'j', 'bc','w','_','-','im','rt','nt','get','got']\n",
    "for x in tokenized: \n",
    "    if x not in stop_words and x not in textabbrev: \n",
    "        tokenizednew.append(x)\n",
    "tokenized = tokenizednew"
   ]
  },
  {
   "cell_type": "code",
   "execution_count": 71,
   "metadata": {},
   "outputs": [
    {
     "data": {
      "image/png": "[encoded data removed]",
      "text/plain": [
       "<Figure size 432x288 with 1 Axes>"
      ]
     },
     "metadata": {
      "needs_background": "light"
     },
     "output_type": "display_data"
    }
   ],
   "source": [
    "from nltk.probability import FreqDist\n",
    "fdist = FreqDist(tokenized)\n",
    "import matplotlib.pyplot as plt\n",
    "fdist.plot(20,cumulative=False)\n",
    "plt.show()"
   ]
  },
  {
   "cell_type": "code",
   "execution_count": 72,
   "metadata": {},
   "outputs": [
    {
     "data": {
      "text/plain": [
       "[('jalajharyani', 46),\n",
       " ('folmar_jackie', 37),\n",
       " ('chanwoo321', 36),\n",
       " ('thanks', 34),\n",
       " ('one', 33),\n",
       " ('doitdaylee', 30),\n",
       " ('hehcamille', 30),\n",
       " ('like', 29),\n",
       " ('happy', 25),\n",
       " ('birthday', 25),\n",
       " ('tolencamille', 23),\n",
       " ('ryoheinamiki', 20),\n",
       " ('people', 18),\n",
       " ('exotabz', 18),\n",
       " ('dude', 16),\n",
       " ('tartarofmongols', 16),\n",
       " ('the_trisarahtop', 16),\n",
       " ('think', 15),\n",
       " ('boi', 15),\n",
       " ('aratrikag_20', 15)]"
      ]
     },
     "execution_count": 72,
     "metadata": {},
     "output_type": "execute_result"
    }
   ],
   "source": [
    "fdist.most_common(20)"
   ]
  },
  {
   "cell_type": "code",
   "execution_count": 55,
   "metadata": {},
   "outputs": [
    {
     "data": {
      "text/plain": [
       "727"
      ]
     },
     "execution_count": 55,
     "metadata": {},
     "output_type": "execute_result"
    }
   ],
   "source": [
    "len(cleanedtweets)"
   ]
  },
  {
   "cell_type": "code",
   "execution_count": null,
   "metadata": {},
   "outputs": [],
   "source": []
  }
 ],
 "metadata": {
  "kernelspec": {
   "display_name": "Python 3",
   "language": "python",
   "name": "python3"
  },
  "language_info": {
   "codemirror_mode": {
    "name": "ipython",
    "version": 3
   },
   "file_extension": ".py",
   "mimetype": "text/x-python",
   "name": "python",
   "nbconvert_exporter": "python",
   "pygments_lexer": "ipython3",
   "version": "3.7.4"
  }
 },
 "nbformat": 4,
 "nbformat_minor": 2
}
