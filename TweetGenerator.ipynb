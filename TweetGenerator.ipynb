{
 "cells": [
  {
   "cell_type": "code",
   "execution_count": 34,
   "metadata": {},
   "outputs": [],
   "source": [
    "from tweepy import OAuthHandler\n",
    "from tweepy import API\n",
    "from tweepy import Cursor\n",
    "import tweepy\n",
    "\n",
    "auth = tweepy.OAuthHandler(conskey, conssec)\n",
    "auth.set_access_token(acctoken, accsec)\n",
    "api = tweepy.API(auth)"
   ]
  },
  {
   "cell_type": "code",
   "execution_count": 35,
   "metadata": {},
   "outputs": [],
   "source": [
    "user = 'realDonaldTrump'\n",
    "item = api.get_user(user)"
   ]
  },
  {
   "cell_type": "code",
   "execution_count": 36,
   "metadata": {},
   "outputs": [
    {
     "name": "stdout",
     "output_type": "stream",
     "text": [
      "2009-03-18 13:46:38\n"
     ]
    }
   ],
   "source": [
    "from datetime import datetime, date, time, timedelta\n",
    "account_created_date = item.created_at\n",
    "print(account_created_date)"
   ]
  },
  {
   "cell_type": "code",
   "execution_count": 59,
   "metadata": {},
   "outputs": [
    {
     "name": "stdout",
     "output_type": "stream",
     "text": [
      "668\n"
     ]
    }
   ],
   "source": [
    "statuses = Cursor(api.user_timeline, id=user,tweet_mode='extended',include_rts = False,count = 3000).items() \n",
    "userwrittentexts = []\n",
    "for status in statuses:\n",
    "  text = status.full_text\n",
    "  userwrittentexts.append(text) \n",
    "print(len(userwrittentexts))"
   ]
  },
  {
   "cell_type": "code",
   "execution_count": null,
   "metadata": {},
   "outputs": [],
   "source": [
    "import re \n",
    "cleanedtweets = []\n",
    "for x in userwrittentexts: \n",
    "    text = re.sub(r'\\w+:\\/{2}[\\d\\w-]+(\\.[\\d\\w-]+)*(?:(?:\\/[^\\s/]*))*', '', x)\n",
    "    if len(text.strip()) == 0: \n",
    "      continue \n",
    "    else: \n",
    "      cleanedtweets.append(text.strip())\n",
    "len(cleanedtweets)"
   ]
  },
  {
   "cell_type": "code",
   "execution_count": 74,
   "metadata": {},
   "outputs": [
    {
     "name": "stdout",
     "output_type": "stream",
     "text": [
      "Training on 90,778 character sequences.\n",
      "Epoch 1/30\n",
      "709/709 [==============================] - 82s 115ms/step - loss: 1.8795 - lr: 0.0040\n",
      "Epoch 2/30\n",
      "709/709 [==============================] - 86s 122ms/step - loss: 1.5438 - lr: 0.0039\n",
      "Epoch 3/30\n",
      "709/709 [==============================] - 96s 136ms/step - loss: 1.4434 - lr: 0.0037\n",
      "Epoch 4/30\n",
      "709/709 [==============================] - 96s 135ms/step - loss: 1.3140 - lr: 0.0036\n",
      "Epoch 5/30\n",
      "709/709 [==============================] - 96s 135ms/step - loss: 1.2349 - lr: 0.0035\n",
      "Epoch 6/30\n",
      "709/709 [==============================] - 93s 131ms/step - loss: 1.1782 - lr: 0.0033\n",
      "Epoch 7/30\n",
      "709/709 [==============================] - 87s 123ms/step - loss: 1.1374 - lr: 0.0032\n",
      "Epoch 8/30\n",
      "709/709 [==============================] - 88s 124ms/step - loss: 1.0979 - lr: 0.0031\n",
      "Epoch 9/30\n",
      "709/709 [==============================] - 91s 128ms/step - loss: 1.0556 - lr: 0.0029\n",
      "Epoch 10/30\n",
      "709/709 [==============================] - 85s 120ms/step - loss: 1.0149 - lr: 0.0028\n",
      "Epoch 11/30\n",
      "709/709 [==============================] - 84s 119ms/step - loss: 0.9840 - lr: 0.0027\n",
      "Epoch 12/30\n",
      "709/709 [==============================] - 83s 118ms/step - loss: 0.9430 - lr: 0.0025\n",
      "Epoch 13/30\n",
      "709/709 [==============================] - 84s 118ms/step - loss: 0.9118 - lr: 0.0024\n",
      "Epoch 14/30\n",
      "709/709 [==============================] - 94s 133ms/step - loss: 0.8825 - lr: 0.0023\n",
      "Epoch 15/30\n",
      "709/709 [==============================] - 94s 132ms/step - loss: 0.8474 - lr: 0.0021\n",
      "Epoch 16/30\n",
      "709/709 [==============================] - 96s 135ms/step - loss: 0.8175 - lr: 0.0020\n",
      "Epoch 17/30\n",
      "709/709 [==============================] - 88s 125ms/step - loss: 0.7802 - lr: 0.0019\n",
      "Epoch 18/30\n",
      "709/709 [==============================] - 88s 124ms/step - loss: 0.7514 - lr: 0.0017\n",
      "Epoch 19/30\n",
      "709/709 [==============================] - 90s 127ms/step - loss: 0.7174 - lr: 0.0016\n",
      "Epoch 20/30\n",
      "709/709 [==============================] - 87s 122ms/step - loss: 0.6852 - lr: 0.0015\n",
      "Epoch 21/30\n",
      "709/709 [==============================] - 87s 122ms/step - loss: 0.6546 - lr: 0.0013\n",
      "Epoch 22/30\n",
      "709/709 [==============================] - 82s 115ms/step - loss: 0.6264 - lr: 0.0012\n",
      "Epoch 23/30\n",
      "709/709 [==============================] - 85s 119ms/step - loss: 0.5963 - lr: 0.0011\n",
      "Epoch 24/30\n",
      "709/709 [==============================] - 90s 126ms/step - loss: 0.5677 - lr: 9.3333e-04\n",
      "Epoch 25/30\n",
      "709/709 [==============================] - 91s 129ms/step - loss: 0.5385 - lr: 8.0000e-04\n",
      "Epoch 26/30\n",
      "709/709 [==============================] - 92s 130ms/step - loss: 0.5119 - lr: 6.6667e-04\n",
      "Epoch 27/30\n",
      "709/709 [==============================] - 90s 128ms/step - loss: 0.4855 - lr: 5.3333e-04\n",
      "Epoch 28/30\n",
      "709/709 [==============================] - 82s 115ms/step - loss: 0.4613 - lr: 4.0000e-04\n",
      "Epoch 29/30\n",
      "709/709 [==============================] - 82s 116ms/step - loss: 0.4413 - lr: 2.6667e-04\n",
      "Epoch 30/30\n",
      "709/709 [==============================] - ETA: 0s - loss: 0.4226####################\n",
      "Temperature: 0.2\n",
      "####################\n",
      "Thank you to Fake News!\n",
      "\n",
      "The Democrats don’t care on Life and the Fake News is a great job, they will be to be a great job on The White House News Conference at 5:45 P.M. Eastern. Thank you!\n",
      "\n",
      "The Democrats are happening the Radical Left, Do Nothing Democrats, and all the way the U.S. has been a great man &amp;  American history!\n",
      "\n",
      "####################\n",
      "Temperature: 0.5\n",
      "####################\n",
      "The Fake News has been “very tolded me ttoming to Georga for the American people criticible pent more at 6:00 P.M. Eastern. Thank you!\n",
      "\n",
      "The Democrat’s Because Better throw our gear with the Officeronal Debaire (Norwast), but hospitals &amp; a great job for the Great State of @BillionalDolu was correct as all of the truth, &amp; because they were wrong and a tremendous fighter for Justice than ever before!\n",
      "\n",
      "Congressman @BankofAmerica will be strong ago, and being bad, but they can’t let there! I am should be the life, and with me to be at my workester and now for the President of Judges, and the Senate  has my Complete and Total Endorsement!\n",
      "\n",
      "####################\n",
      "Temperature: 1.0\n",
      "####################\n",
      "UPrudulan roithing by Cordem for our great guid, we have done fought prohlis behind ssiilling, and entrict deliver tealt on and always work out of leaders by @foxandfriends (a little businesses of briefing Ariaham for the Southern Border. See our Country was a tremendous fighter for the incredible \n",
      "\n",
      "But I caught to saudistan Our Concast and a great give acceid!\n",
      "\n",
      "Democrat’s News!\n",
      "\n",
      "709/709 [==============================] - 107s 151ms/step - loss: 0.4226 - lr: 1.3333e-04\n"
     ]
    },
    {
     "name": "stderr",
     "output_type": "stream",
     "text": [
      "\n",
      "  0%|          | 0/100 [00:00<?, ?it/s]\u001b[A\n",
      "  1%|          | 1/100 [00:01<01:57,  1.19s/it]\u001b[A\n",
      "  2%|▏         | 2/100 [00:03<02:25,  1.48s/it]\u001b[A\n",
      "  3%|▎         | 3/100 [00:05<02:31,  1.56s/it]\u001b[A\n",
      "  4%|▍         | 4/100 [00:08<03:13,  2.02s/it]\u001b[A\n",
      "  5%|▌         | 5/100 [00:08<02:26,  1.54s/it]\u001b[A\n",
      "  6%|▌         | 6/100 [00:12<03:33,  2.27s/it]\u001b[A\n",
      "  7%|▋         | 7/100 [00:14<03:18,  2.13s/it]\u001b[A\n",
      "  8%|▊         | 8/100 [00:15<02:52,  1.87s/it]\u001b[A\n",
      "  9%|▉         | 9/100 [00:20<04:17,  2.83s/it]\u001b[A\n",
      " 10%|█         | 10/100 [00:23<04:12,  2.81s/it]\u001b[A\n",
      " 11%|█         | 11/100 [00:29<05:24,  3.64s/it]\u001b[A\n",
      " 12%|█▏        | 12/100 [00:34<06:06,  4.16s/it]\u001b[A\n",
      " 13%|█▎        | 13/100 [00:34<04:16,  2.95s/it]\u001b[A\n",
      " 14%|█▍        | 14/100 [00:40<05:21,  3.74s/it]\u001b[A\n",
      " 15%|█▌        | 15/100 [00:43<05:18,  3.75s/it]\u001b[A\n",
      " 16%|█▌        | 16/100 [00:45<04:18,  3.08s/it]\u001b[A\n",
      " 17%|█▋        | 17/100 [00:47<03:38,  2.63s/it]\u001b[A\n",
      " 18%|█▊        | 18/100 [00:49<03:39,  2.67s/it]\u001b[A\n",
      " 19%|█▉        | 19/100 [00:50<02:51,  2.12s/it]\u001b[A\n",
      " 20%|██        | 20/100 [00:51<02:23,  1.80s/it]\u001b[A\n",
      " 21%|██        | 21/100 [00:52<02:05,  1.59s/it]\u001b[A\n",
      " 22%|██▏       | 22/100 [00:53<01:47,  1.38s/it]\u001b[A\n",
      " 23%|██▎       | 23/100 [00:57<02:45,  2.15s/it]\u001b[A\n",
      " 24%|██▍       | 24/100 [01:01<03:15,  2.57s/it]\u001b[A\n",
      " 25%|██▌       | 25/100 [01:04<03:34,  2.86s/it]\u001b[A\n",
      " 26%|██▌       | 26/100 [01:04<02:30,  2.04s/it]\u001b[A\n",
      " 27%|██▋       | 27/100 [01:09<03:17,  2.70s/it]\u001b[A\n",
      " 28%|██▊       | 28/100 [01:10<02:50,  2.36s/it]\u001b[A\n",
      " 29%|██▉       | 29/100 [01:15<03:47,  3.20s/it]\u001b[A\n",
      " 30%|███       | 30/100 [01:16<03:02,  2.61s/it]\u001b[A\n",
      " 31%|███       | 31/100 [01:18<02:32,  2.21s/it]\u001b[A\n",
      " 32%|███▏      | 32/100 [01:23<03:41,  3.26s/it]\u001b[A\n",
      " 33%|███▎      | 33/100 [01:24<02:49,  2.53s/it]\u001b[A\n",
      " 34%|███▍      | 34/100 [01:25<02:04,  1.88s/it]\u001b[A\n",
      " 35%|███▌      | 35/100 [01:25<01:28,  1.36s/it]\u001b[A\n",
      " 36%|███▌      | 36/100 [01:25<01:06,  1.04s/it]\u001b[A\n",
      " 37%|███▋      | 37/100 [01:27<01:14,  1.18s/it]\u001b[A\n",
      " 38%|███▊      | 38/100 [01:29<01:34,  1.52s/it]\u001b[A\n",
      " 39%|███▉      | 39/100 [01:30<01:31,  1.50s/it]\u001b[A\n",
      " 40%|████      | 40/100 [01:33<01:57,  1.97s/it]\u001b[A\n",
      " 41%|████      | 41/100 [01:39<02:54,  2.96s/it]\u001b[A\n",
      " 42%|████▏     | 42/100 [01:39<02:02,  2.11s/it]\u001b[A\n",
      " 43%|████▎     | 43/100 [01:41<02:04,  2.18s/it]\u001b[A\n",
      " 44%|████▍     | 44/100 [01:43<01:57,  2.09s/it]\u001b[A\n",
      " 45%|████▌     | 45/100 [01:47<02:21,  2.58s/it]\u001b[A\n",
      " 46%|████▌     | 46/100 [01:50<02:36,  2.90s/it]\u001b[A\n",
      " 47%|████▋     | 47/100 [01:52<02:20,  2.65s/it]\u001b[A\n",
      " 48%|████▊     | 48/100 [01:56<02:36,  3.01s/it]\u001b[A\n",
      " 49%|████▉     | 49/100 [01:57<02:00,  2.36s/it]\u001b[A\n",
      " 50%|█████     | 50/100 [01:59<01:43,  2.07s/it]\u001b[A\n",
      " 51%|█████     | 51/100 [02:01<01:49,  2.24s/it]\u001b[A\n",
      " 52%|█████▏    | 52/100 [02:03<01:37,  2.04s/it]\u001b[A\n",
      " 53%|█████▎    | 53/100 [02:04<01:29,  1.91s/it]\u001b[A\n",
      " 54%|█████▍    | 54/100 [02:09<02:05,  2.72s/it]\u001b[A\n",
      " 55%|█████▌    | 55/100 [02:09<01:27,  1.95s/it]\u001b[A\n",
      " 56%|█████▌    | 56/100 [02:10<01:15,  1.72s/it]\u001b[A\n",
      " 57%|█████▋    | 57/100 [02:11<01:01,  1.42s/it]\u001b[A\n",
      " 58%|█████▊    | 58/100 [02:14<01:18,  1.86s/it]\u001b[A\n",
      " 59%|█████▉    | 59/100 [02:16<01:18,  1.91s/it]\u001b[A\n",
      " 60%|██████    | 60/100 [02:22<02:02,  3.05s/it]\u001b[A\n",
      " 61%|██████    | 61/100 [02:27<02:25,  3.74s/it]\u001b[A\n",
      " 62%|██████▏   | 62/100 [02:32<02:32,  4.01s/it]\u001b[A\n",
      " 63%|██████▎   | 63/100 [02:34<02:06,  3.42s/it]\u001b[A\n",
      " 64%|██████▍   | 64/100 [02:34<01:29,  2.47s/it]\u001b[A\n",
      " 65%|██████▌   | 65/100 [02:36<01:18,  2.25s/it]\u001b[A\n",
      " 66%|██████▌   | 66/100 [02:37<01:04,  1.90s/it]\u001b[A\n",
      " 67%|██████▋   | 67/100 [02:42<01:35,  2.91s/it]\u001b[A\n",
      " 68%|██████▊   | 68/100 [02:46<01:44,  3.28s/it]\u001b[A\n",
      " 69%|██████▉   | 69/100 [02:48<01:24,  2.73s/it]\u001b[A\n",
      " 70%|███████   | 70/100 [02:50<01:22,  2.74s/it]\u001b[A\n",
      " 71%|███████   | 71/100 [02:55<01:33,  3.22s/it]\u001b[A\n",
      " 72%|███████▏  | 72/100 [02:55<01:09,  2.47s/it]\u001b[A\n",
      " 73%|███████▎  | 73/100 [02:57<01:01,  2.27s/it]\u001b[A\n",
      " 74%|███████▍  | 74/100 [03:03<01:23,  3.23s/it]\u001b[A\n",
      " 75%|███████▌  | 75/100 [03:05<01:12,  2.91s/it]\u001b[A\n",
      " 76%|███████▌  | 76/100 [03:05<00:50,  2.10s/it]\u001b[A\n",
      " 77%|███████▋  | 77/100 [03:06<00:38,  1.66s/it]\u001b[A\n",
      " 78%|███████▊  | 78/100 [03:09<00:46,  2.12s/it]\u001b[A\n",
      " 79%|███████▉  | 79/100 [03:10<00:40,  1.92s/it]\u001b[A\n",
      " 80%|████████  | 80/100 [03:15<00:52,  2.64s/it]\u001b[A\n",
      " 81%|████████  | 81/100 [03:15<00:36,  1.91s/it]\u001b[A\n",
      " 82%|████████▏ | 82/100 [03:20<00:52,  2.92s/it]\u001b[A\n",
      " 83%|████████▎ | 83/100 [03:20<00:36,  2.13s/it]\u001b[A\n",
      " 84%|████████▍ | 84/100 [03:26<00:49,  3.07s/it]\u001b[A\n",
      " 85%|████████▌ | 85/100 [03:31<00:56,  3.76s/it]\u001b[A\n",
      " 86%|████████▌ | 86/100 [03:33<00:43,  3.09s/it]\u001b[A\n",
      " 87%|████████▋ | 87/100 [03:34<00:32,  2.49s/it]\u001b[A\n",
      " 88%|████████▊ | 88/100 [03:39<00:40,  3.34s/it]\u001b[A\n",
      " 89%|████████▉ | 89/100 [03:43<00:37,  3.39s/it]\u001b[A\n",
      " 90%|█████████ | 90/100 [03:48<00:40,  4.03s/it]\u001b[A\n",
      " 91%|█████████ | 91/100 [03:54<00:41,  4.66s/it]\u001b[A\n",
      " 92%|█████████▏| 92/100 [04:00<00:39,  4.89s/it]\u001b[A\n",
      " 93%|█████████▎| 93/100 [04:04<00:33,  4.74s/it]\u001b[A\n",
      " 94%|█████████▍| 94/100 [04:09<00:29,  4.92s/it]\u001b[A\n",
      " 95%|█████████▌| 95/100 [04:12<00:21,  4.27s/it]\u001b[A\n",
      " 96%|█████████▌| 96/100 [04:18<00:18,  4.63s/it]\u001b[A\n",
      " 97%|█████████▋| 97/100 [04:21<00:12,  4.31s/it]\u001b[A\n",
      " 98%|█████████▊| 98/100 [04:24<00:07,  3.87s/it]\u001b[A\n",
      " 99%|█████████▉| 99/100 [04:25<00:02,  2.86s/it]\u001b[A\n",
      "100%|██████████| 100/100 [04:29<00:00,  2.70s/it]\u001b[A\n"
     ]
    }
   ],
   "source": [
    "from textgenrnn import textgenrnn\n",
    "textgen = textgenrnn()\n",
    "trainedmodel = textgen.train_on_texts(cleanedtweets, num_epochs=30,  gen_epochs=30)\n",
    "textgen.generate_to_file(\"trumptweets.txt\", n=100,temperature = .9)"
   ]
  },
  {
   "cell_type": "code",
   "execution_count": 75,
   "metadata": {},
   "outputs": [],
   "source": [
    "import nltk\n",
    "from nltk.tokenize import word_tokenize\n",
    "tokenized = []\n",
    "for tweet in cleanedtweets: \n",
    "    tokenized_word = word_tokenize(tweet)\n",
    "    tokenized.extend(tokenized_word)"
   ]
  },
  {
   "cell_type": "code",
   "execution_count": 76,
   "metadata": {},
   "outputs": [],
   "source": [
    "from nltk.corpus import stopwords\n",
    "import re\n",
    "tokenized = [str(x).lower() for x in tokenized]\n",
    "tokenized = [x for x in tokenized if x != \"amp\"]\n",
    "tokenized = [re.sub(r'[^\\w\\s]','',x) for x in tokenized]\n",
    "tokenized = [x for x in tokenized if len(x.strip()) > 0]\n",
    "tokenizednew = []\n",
    "stop_words=set(stopwords.words(\"english\"))\n",
    "textabbrev = ['u', 'ur', 'j', 'bc','w','_','-','im','rt','nt','get','got']\n",
    "for x in tokenized: \n",
    "    if x not in stop_words and x not in textabbrev: \n",
    "        tokenizednew.append(x)\n",
    "tokenized = tokenizednew"
   ]
  },
  {
   "cell_type": "code",
   "execution_count": 77,
   "metadata": {},
   "outputs": [
    {
     "data": {
      "image/png": "[encoded data removed]",
      "text/plain": [
       "<Figure size 432x288 with 1 Axes>"
      ]
     },
     "metadata": {
      "needs_background": "light"
     },
     "output_type": "display_data"
    }
   ],
   "source": [
    "from nltk.probability import FreqDist\n",
    "fdist = FreqDist(tokenized)\n",
    "import matplotlib.pyplot as plt\n",
    "fdist.plot(20,cumulative=False)\n",
    "plt.show()"
   ]
  },
  {
   "cell_type": "code",
   "execution_count": 78,
   "metadata": {},
   "outputs": [
    {
     "data": {
      "text/plain": [
       "[('great', 145),\n",
       " ('news', 115),\n",
       " ('thank', 91),\n",
       " ('fake', 80),\n",
       " ('people', 67),\n",
       " ('new', 45),\n",
       " ('states', 41),\n",
       " ('house', 40),\n",
       " ('media', 38),\n",
       " ('us', 37),\n",
       " ('strong', 36),\n",
       " ('country', 36),\n",
       " ('job', 35),\n",
       " ('white', 35),\n",
       " ('big', 34),\n",
       " ('ventilators', 34),\n",
       " ('many', 33),\n",
       " ('good', 33),\n",
       " ('even', 32),\n",
       " ('today', 32)]"
      ]
     },
     "execution_count": 78,
     "metadata": {},
     "output_type": "execute_result"
    }
   ],
   "source": [
    "fdist.most_common(20)"
   ]
  },
  {
   "cell_type": "code",
   "execution_count": null,
   "metadata": {},
   "outputs": [],
   "source": []
  }
 ],
 "metadata": {
  "kernelspec": {
   "display_name": "Python 3",
   "language": "python",
   "name": "python3"
  },
  "language_info": {
   "codemirror_mode": {
    "name": "ipython",
    "version": 3
   },
   "file_extension": ".py",
   "mimetype": "text/x-python",
   "name": "python",
   "nbconvert_exporter": "python",
   "pygments_lexer": "ipython3",
   "version": "3.7.4"
  }
 },
 "nbformat": 4,
 "nbformat_minor": 2
}
